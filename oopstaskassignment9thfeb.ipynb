{
 "cells": [
  {
   "cell_type": "code",
   "execution_count": null,
   "id": "8b052ba0-e49b-4425-8ee1-c83481fbf540",
   "metadata": {},
   "outputs": [],
   "source": [
    "#Q1, Create a vehicle class with an init method having instance variables as name_of_vehicle, max_speed\n",
    " # and average_of_vehicle."
   ]
  },
  {
   "cell_type": "code",
   "execution_count": 1,
   "id": "af68b74e-d5b7-42b3-a632-48a6d26501dc",
   "metadata": {},
   "outputs": [],
   "source": [
    "class vehicle :\n",
    "    def __init__ (self, name_of_vehicle,max_speed,average_of_vehicle):\n",
    "        self.name_of_vehicle = name_of_vehicle\n",
    "        self.max_speed = max_speed\n",
    "        self.average_of_vehicle = average_of_vehicle"
   ]
  },
  {
   "cell_type": "code",
   "execution_count": 4,
   "id": "5578801a-eab9-4994-bbb1-b1501693851f",
   "metadata": {},
   "outputs": [],
   "source": [
    "car = vehicle(\"innova_car\",280,80)"
   ]
  },
  {
   "cell_type": "code",
   "execution_count": 5,
   "id": "88b8b4e5-387f-4c6c-a85f-f8ef8c0a8e55",
   "metadata": {},
   "outputs": [
    {
     "data": {
      "text/plain": [
       "'innova_car'"
      ]
     },
     "execution_count": 5,
     "metadata": {},
     "output_type": "execute_result"
    }
   ],
   "source": [
    "car.name_of_vehicle"
   ]
  },
  {
   "cell_type": "code",
   "execution_count": 6,
   "id": "f7664d43-d8b0-40e8-9c83-e45dd0802bed",
   "metadata": {},
   "outputs": [
    {
     "data": {
      "text/plain": [
       "280"
      ]
     },
     "execution_count": 6,
     "metadata": {},
     "output_type": "execute_result"
    }
   ],
   "source": [
    "car.max_speed"
   ]
  },
  {
   "cell_type": "code",
   "execution_count": 7,
   "id": "dd8820ad-648c-4527-ac8c-9e1018b05b3f",
   "metadata": {},
   "outputs": [
    {
     "data": {
      "text/plain": [
       "80"
      ]
     },
     "execution_count": 7,
     "metadata": {},
     "output_type": "execute_result"
    }
   ],
   "source": [
    "car.average_of_vehicle"
   ]
  },
  {
   "cell_type": "code",
   "execution_count": null,
   "id": "c27072c2-d0cc-4a18-b4b3-38866fa628dc",
   "metadata": {},
   "outputs": [],
   "source": [
    "#Q2.Create a child class car from the vehicle class created in Que 1, which will inherit the vehicle class.\n",
    "#Create a method named seating_capacity which takes capacity as an argument and returns the name of\n",
    "#the vehicle and its seating capacity."
   ]
  },
  {
   "cell_type": "code",
   "execution_count": 12,
   "id": "d5b46170-9b85-4c0a-ae20-d3088bab58b8",
   "metadata": {},
   "outputs": [],
   "source": [
    "class vehicle:\n",
    "    def __init__(self, seating_capacity, vehicle_class):\n",
    "    \n",
    "        self.seating_capacity = seating_capacity\n",
    "        self.vehicle_class = vehicle_class\n",
    "\n",
    "\n",
    "car = vehicle( 12,\"child_car\")"
   ]
  },
  {
   "cell_type": "code",
   "execution_count": 13,
   "id": "6b008ff3-3981-4200-84de-b1e6228c6df8",
   "metadata": {},
   "outputs": [
    {
     "data": {
      "text/plain": [
       "12"
      ]
     },
     "execution_count": 13,
     "metadata": {},
     "output_type": "execute_result"
    }
   ],
   "source": [
    "car.seating_capacity"
   ]
  },
  {
   "cell_type": "code",
   "execution_count": 14,
   "id": "609fc37a-541e-403a-b829-62d4351ed74b",
   "metadata": {},
   "outputs": [
    {
     "data": {
      "text/plain": [
       "'child_car'"
      ]
     },
     "execution_count": 14,
     "metadata": {},
     "output_type": "execute_result"
    }
   ],
   "source": [
    "car.vehicle_class"
   ]
  },
  {
   "cell_type": "code",
   "execution_count": null,
   "id": "e89d0a01-28e6-4a5c-ade5-d3acc6660297",
   "metadata": {},
   "outputs": [],
   "source": [
    "# Q3. What is multiple inheritance? Write a python code to demonstrate multiple inheritance."
   ]
  },
  {
   "cell_type": "code",
   "execution_count": null,
   "id": "4334a470-567f-4ec4-bba2-f0d90e221069",
   "metadata": {},
   "outputs": [],
   "source": [
    "# Ans. When a class is derived from more than one base class it is called multiple Inheritance."
   ]
  },
  {
   "cell_type": "code",
   "execution_count": 23,
   "id": "3c545c7b-f6ec-4d40-ae30-bb3f7d525d01",
   "metadata": {},
   "outputs": [],
   "source": [
    "class class1:\n",
    "    def test_class1(self):\n",
    "        return \"this is the method from class1\"\n"
   ]
  },
  {
   "cell_type": "code",
   "execution_count": 24,
   "id": "79e819bb-ec73-42f9-b5de-76fe3d860d73",
   "metadata": {},
   "outputs": [],
   "source": [
    "class class2(class1) :\n",
    "    def test_class2(self):\n",
    "        return \"this is the method of class2\""
   ]
  },
  {
   "cell_type": "code",
   "execution_count": 28,
   "id": "9e599ffb-0068-4267-82a4-a52601e4a05d",
   "metadata": {},
   "outputs": [],
   "source": [
    "class class3(class2) :\n",
    "    def test_class3(self):\n",
    "        return \"this is the method of class3\""
   ]
  },
  {
   "cell_type": "code",
   "execution_count": 29,
   "id": "d790d3be-10ab-4a44-9d5a-8e133269871c",
   "metadata": {},
   "outputs": [],
   "source": [
    "obj_class3 = class3()"
   ]
  },
  {
   "cell_type": "code",
   "execution_count": 31,
   "id": "fe779a58-ae74-4607-8f00-63e0427de82d",
   "metadata": {},
   "outputs": [
    {
     "data": {
      "text/plain": [
       "'this is the method from class1'"
      ]
     },
     "execution_count": 31,
     "metadata": {},
     "output_type": "execute_result"
    }
   ],
   "source": [
    "obj_class3.test_class1()"
   ]
  },
  {
   "cell_type": "code",
   "execution_count": 32,
   "id": "da42425d-b5a5-4329-9255-11d7883857ff",
   "metadata": {},
   "outputs": [
    {
     "data": {
      "text/plain": [
       "'this is the method of class2'"
      ]
     },
     "execution_count": 32,
     "metadata": {},
     "output_type": "execute_result"
    }
   ],
   "source": [
    "obj_class3.test_class2()"
   ]
  },
  {
   "cell_type": "code",
   "execution_count": null,
   "id": "864ba6b3-e586-48e0-bf63-6afd6c974082",
   "metadata": {},
   "outputs": [],
   "source": [
    "# Q4. What are getter and setter in python? Create a class and create a getter and a setter method in this class."
   ]
  },
  {
   "cell_type": "code",
   "execution_count": null,
   "id": "80d05631-2039-4918-8b95-a52e2a4ad39c",
   "metadata": {},
   "outputs": [],
   "source": [
    "# Ans. We use getters & setters to add validation logic around getting and setting a value."
   ]
  },
  {
   "cell_type": "code",
   "execution_count": 33,
   "id": "40c330b8-57a7-4562-84e6-e72f77d26ce1",
   "metadata": {},
   "outputs": [
    {
     "name": "stdout",
     "output_type": "stream",
     "text": [
      "21\n",
      "21\n"
     ]
    }
   ],
   "source": [
    "class age:\n",
    "    def __init__(self, age = 0):\n",
    "         self._age = age\n",
    "      \n",
    "    # getter method\n",
    "    def get_age(self):\n",
    "        return self._age\n",
    "      \n",
    "    # setter method\n",
    "    def set_age(self, x):\n",
    "        self._age = x\n",
    "  \n",
    " raj = age()\n",
    "\n",
    "# setting the age using setter\n",
    "raj.set_age(21)\n",
    "  \n",
    "# retrieving age using getter\n",
    "print(raj.get_age())\n",
    "  \n",
    "print(raj._age)"
   ]
  },
  {
   "cell_type": "code",
   "execution_count": null,
   "id": "fd8a7f3d-0d57-40ff-930a-b7f208c77175",
   "metadata": {},
   "outputs": [],
   "source": [
    "# Q5.What is method overriding in python? Write a python code to demonstrate method overriding."
   ]
  },
  {
   "cell_type": "code",
   "execution_count": null,
   "id": "441f0cc7-c4f4-44e7-9817-0875555e0a4e",
   "metadata": {},
   "outputs": [],
   "source": [
    "# Ans. Method overriding is a feature of object-oriented programming languages\n",
    "where the subclass or child class can provide the program with specific characteristics \n",
    "or a specific implementation process of data provided that are already defined in the parent class or superclass.c"
   ]
  },
  {
   "cell_type": "code",
   "execution_count": 34,
   "id": "75324f5d-8d00-4138-8e0d-cd59360a523a",
   "metadata": {},
   "outputs": [
    {
     "name": "stdout",
     "output_type": "stream",
     "text": [
      "Animal makes a generic sound.\n",
      "Cat says 'Meow!'\n",
      "Dog says 'Woof!'\n"
     ]
    }
   ],
   "source": [
    "class Animal:\n",
    "    def make_sound(self):\n",
    "        print(\"Animal makes a generic sound.\")\n",
    "\n",
    "\n",
    "class Cat(Animal):\n",
    "    def make_sound(self):\n",
    "        print(\"Cat says 'Meow!'\")\n",
    "\n",
    "\n",
    "class Dog(Animal):\n",
    "    def make_sound(self):\n",
    "        print(\"Dog says 'Woof!'\")\n",
    "\n",
    "\n",
    "animal = Animal()\n",
    "animal.make_sound()  # Output: Animal makes a generic sound.\n",
    "\n",
    "cat = Cat()\n",
    "cat.make_sound()     # Output: Cat says 'Meow!'\n",
    "\n",
    "dog = Dog()\n",
    "dog.make_sound()     # Output: Dog says 'Woof!'\n",
    "\n"
   ]
  },
  {
   "cell_type": "code",
   "execution_count": null,
   "id": "d06bef22-ffab-4510-af51-43bf878ac6be",
   "metadata": {},
   "outputs": [],
   "source": []
  }
 ],
 "metadata": {
  "kernelspec": {
   "display_name": "Python 3 (ipykernel)",
   "language": "python",
   "name": "python3"
  },
  "language_info": {
   "codemirror_mode": {
    "name": "ipython",
    "version": 3
   },
   "file_extension": ".py",
   "mimetype": "text/x-python",
   "name": "python",
   "nbconvert_exporter": "python",
   "pygments_lexer": "ipython3",
   "version": "3.10.8"
  }
 },
 "nbformat": 4,
 "nbformat_minor": 5
}
